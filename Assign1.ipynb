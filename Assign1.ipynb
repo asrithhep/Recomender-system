{
 "cells": [
  {
   "cell_type": "code",
   "execution_count": null,
   "metadata": {},
   "outputs": [],
   "source": [
    "import pandas as pd\n",
    "import re\n",
    "df = pd.read_csv('data_set.csv')\n",
    "X = df['ArticleID'].values\n",
    "Y = df['news'].values\n",
    "Y = Y.astype(str)\n",
    "print(Y)"
   ]
  },
  {
   "cell_type": "code",
   "execution_count": 21,
   "metadata": {},
   "outputs": [],
   "source": [
    "from nltk.corpus import stopwords\n",
    "import nltk\n",
    "from nltk.stem.wordnet import WordNetLemmatizer\n",
    "import string\n",
    "stop = set(stopwords.words('english'))\n",
    "exclude = set(string.punctuation)\n",
    "lemma = WordNetLemmatizer()"
   ]
  },
  {
   "cell_type": "code",
   "execution_count": 23,
   "metadata": {},
   "outputs": [],
   "source": [
    "from nltk.stem.snowball import SnowballStemmer\n",
    "stemmer = SnowballStemmer(\"english\")"
   ]
  },
  {
   "cell_type": "code",
   "execution_count": 24,
   "metadata": {},
   "outputs": [],
   "source": [
    "def clean_tokenize(document):\n",
    "\tdocument = re.sub('[^\\w_\\s-]', ' ',document)\n",
    "\tstop_free = \" \".join([i for i in document.lower().split() if i not in stop])\n",
    "\tpunc_free = ''.join(ch for ch in stop_free if ch not in exclude)\n",
    "\ttokens = nltk.word_tokenize(document)             \n",
    "\tcleaned_article = ' '.join([stemmer.stem(item) for item in tokens])  \n",
    "\treturn(cleaned_article)"
   ]
  },
  {
   "cell_type": "code",
   "execution_count": 25,
   "metadata": {
    "scrolled": true
   },
   "outputs": [
    {
     "name": "stdout",
     "output_type": "stream",
     "text": [
      "[[0.         0.         0.         ... 0.         0.         0.        ]\n",
      " [0.         0.         0.         ... 0.         0.         0.        ]\n",
      " [0.         0.         0.         ... 0.         0.         0.        ]\n",
      " ...\n",
      " [0.         0.         0.         ... 0.         0.         0.        ]\n",
      " [0.         0.         0.         ... 0.         0.         0.        ]\n",
      " [0.         0.03854259 0.         ... 0.         0.         0.        ]]\n"
     ]
    }
   ],
   "source": [
    "from sklearn.feature_extraction.text import TfidfVectorizer\n",
    "cleaned_articles = list(map(clean_tokenize, Y))\n",
    "tfidf_matrix = TfidfVectorizer(stop_words='english', min_df=2)\n",
    "article_tfidf_matrix = tfidf_matrix.fit_transform(cleaned_articles)\n",
    "#print(article_tfidf_matrix)\n",
    "#print(pd.DataFrame(article_tfidf_matrix.todense(),columns=tfidf_matrix.get_feature_names()))\n",
    "print(article_tfidf_matrix.toarray())"
   ]
  },
  {
   "cell_type": "code",
   "execution_count": 26,
   "metadata": {},
   "outputs": [
    {
     "name": "stdout",
     "output_type": "stream",
     "text": [
      "[[1]\n",
      " [0]\n",
      " [1]\n",
      " ...\n",
      " [9]\n",
      " [4]\n",
      " [3]]\n"
     ]
    }
   ],
   "source": [
    "from sklearn.cluster import KMeans\n",
    "kmeans = KMeans(n_clusters=10).fit(article_tfidf_matrix)\n",
    "#print(pd.Series(kmeans.labels_).value_counts())\n",
    "y = kmeans.labels_          \n",
    "y1 = y.reshape(y.shape[0],1)\n",
    "print(y1)\n",
    "a = pd.Series(kmeans.labels_).value_counts()"
   ]
  },
  {
   "cell_type": "code",
   "execution_count": 27,
   "metadata": {},
   "outputs": [
    {
     "name": "stdout",
     "output_type": "stream",
     "text": [
      "0 [93]\n",
      "1 [450]\n",
      "2 [1011]\n",
      "3 [1262]\n",
      "4 [1581]\n",
      "5 [1849]\n",
      "6 [2281]\n",
      "7 [2773]\n",
      "8 [3242]\n",
      "9 [4268]\n"
     ]
    }
   ],
   "source": [
    "import csv\n",
    "import numpy as np\n",
    "from csv import writer\n",
    "from csv import reader\n",
    "import random\n",
    "def add_column_in_csv(input_file, output_file, transform_row):\n",
    "    \"\"\" Append a column in existing csv using csv.reader / csv.writer classes\"\"\"\n",
    "    with open(input_file, 'r') as read_obj, \\\n",
    "            open(output_file, 'w', newline='') as write_obj:\n",
    "        csv_reader = reader(read_obj)\n",
    "        csv_writer = writer(write_obj)\n",
    "        for row in csv_reader:\n",
    "            transform_row(row, csv_reader.line_num)\n",
    "            csv_writer.writerow(row)\n",
    "          \n",
    "z = np.array([\"Article rank\"]) \n",
    "A = np.vstack((z,y1))\n",
    "add_column_in_csv('data_set.csv', 'output_data.csv', lambda row, line_num: row.append(A[line_num - 1,0]))\n",
    "data1 = pd.read_csv('output_data.csv')\n",
    "data1.sort_values(\"Article rank\",axis =0,ascending = True,inplace = True, na_position ='last')\n",
    "d1 = data1['news'].values\n",
    "d2 = data1['Article rank'].values\n",
    "d3 = data1['ArticleID']\n",
    "for j in range(10):\n",
    "    list1 = np.where(j==d2)\n",
    "    index1 = np.random.choice(list1[0].shape[0], 1, replace=False)\n",
    "    index2 = list1[0][index1,]\n",
    "    print(j,index2)     #index2 is the articleID and j is the article rank\n",
    "            "
   ]
  }
 ],
 "metadata": {
  "kernelspec": {
   "display_name": "Python 3",
   "language": "python",
   "name": "python3"
  },
  "language_info": {
   "codemirror_mode": {
    "name": "ipython",
    "version": 3
   },
   "file_extension": ".py",
   "mimetype": "text/x-python",
   "name": "python",
   "nbconvert_exporter": "python",
   "pygments_lexer": "ipython3",
   "version": "3.7.6"
  }
 },
 "nbformat": 4,
 "nbformat_minor": 4
}
